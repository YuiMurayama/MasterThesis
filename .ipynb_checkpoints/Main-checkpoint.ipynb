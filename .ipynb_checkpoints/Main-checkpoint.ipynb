{
 "cells": [
  {
   "cell_type": "code",
   "execution_count": 1,
   "metadata": {
    "collapsed": true
   },
   "outputs": [],
   "source": [
    "import networkx as nx\n",
    "\n",
    "import random\n",
    "\n",
    "# from coupling import coupling\n",
    "from matplotlib.pyplot import ylim, title, xlim\n",
    "\n",
    "from clusteredNet import *\n",
    "from coupling import coupling\n",
    "from gameModel import gameStep, countC_of_gameLayer, makePointList\n",
    "from opinionModel import *\n",
    "from makeGraph import makeGraph_fromFile, makeGraph_fromFile, printGstate\n",
    "from matplotlib import pyplot as plt\n",
    "%matplotlib inline\n",
    "\n",
    "from publicGoodsGame import publicGoods_game"
   ]
  },
  {
   "cell_type": "code",
   "execution_count": 2,
   "metadata": {
    "collapsed": true
   },
   "outputs": [],
   "source": [
    "activistRate = 0.0\n",
    "nodeNum = 500\n",
    "timeStep =80\n",
    "kaisu = 3\n",
    "tolerance =0"
   ]
  },
  {
   "cell_type": "code",
   "execution_count": 3,
   "metadata": {
    "collapsed": true
   },
   "outputs": [],
   "source": [
    "\n",
    "#--------------層の生成\n",
    "\n",
    "network_dir = \"./networks/\"\n",
    "\n",
    "OLnetwork = network_dir + 'RegularNetwork.csv'\n",
    "GLnetwork = network_dir + 'BAnetwork2.csv'\n",
    "\n",
    "BA = network_dir + 'BAnetwork.csv'\n",
    "\n",
    "\n",
    "\n",
    "#OLの層\n",
    "opinionLayer_info = makeGraph_fromFile(nodeNum,BA, 'ON',activistRate)\n",
    "opinionLayer = opinionLayer_info[0]\n",
    "opinionList = opinionLayer_info[1]\n",
    "\n",
    "#OLがclusterの場合\n",
    "\n",
    "# opinionLayer_info = makeClusteredInfor('clusteredNet.gpickle')\n",
    "# opinionLayer = opinionLayer_info[0]\n",
    "# opinionList = opinionLayer_info[1]\n",
    "\n",
    "#---------------------------\n",
    "\n",
    "# #各層の最初のCの数を数えてリストにいれる\n",
    "numOfCList_opinionLayer=[]\n",
    "first_numofC =countC_of_opinionLayer(opinionLayer)\n",
    "\n",
    "numOfCList_opinionLayer.append(first_numofC)\n",
    "\n",
    "#-------------------------\n",
    "\n",
    "\n",
    "sumResult =[0]*(timeStep+1)\n",
    "# print sumResult\n",
    "sumResult[0] = countC_of_opinionLayer(opinionLayer)"
   ]
  },
  {
   "cell_type": "code",
   "execution_count": 5,
   "metadata": {
    "scrolled": true
   },
   "outputs": [
    {
     "name": "stdout",
     "output_type": "stream",
     "text": [
      "[0, 0, 0, 0, 0, 0, 0, 0, 0, 0, 0, 0, 0, 0, 0, 0, 0, 0, 0, 0, 0, 0, 0, 0, 0, 0, 0, 0, 0, 0, 0, 0, 0, 0, 0, 0, 0, 0, 0, 0, 0, 0, 0, 0, 0, 0, 0, 0, 0, 0, 0, 0, 0, 0, 0, 0, 0, 0, 0, 0, 0, 0, 0, 0, 0, 0, 0, 0, 0, 0, 0, 0, 0, 0, 0, 0, 0, 0, 0, 0, 0, 250, 500, 500, 500, 500, 500, 500, 500, 500, 500, 500, 500, 500, 500, 500, 500, 500, 500, 500, 500, 500, 500, 500, 500, 500, 500, 500, 500, 500, 500, 500, 500, 500, 500, 500, 500, 500, 500, 500, 500, 500, 500, 500, 500, 500, 500, 500, 500, 500, 500, 500, 500, 500, 500, 500, 500, 500, 500, 500, 500, 500, 500, 500, 500, 500, 500, 500, 500, 500, 500, 500, 500, 500, 500, 500, 500, 500, 500, 500, 500, 500]\n"
     ]
    },
    {
     "ename": "NameError",
     "evalue": "name 'aveResult' is not defined",
     "output_type": "error",
     "traceback": [
      "\u001b[0;31m---------------------------------------------------------------------------\u001b[0m",
      "\u001b[0;31mNameError\u001b[0m                                 Traceback (most recent call last)",
      "\u001b[0;32m<ipython-input-5-b3017b8a6400>\u001b[0m in \u001b[0;36m<module>\u001b[0;34m()\u001b[0m\n\u001b[1;32m     18\u001b[0m     \u001b[0;32mprint\u001b[0m \u001b[0mnumOfCList_opinionLayer\u001b[0m\u001b[0;34m\u001b[0m\u001b[0m\n\u001b[1;32m     19\u001b[0m \u001b[0;34m\u001b[0m\u001b[0m\n\u001b[0;32m---> 20\u001b[0;31m     \u001b[0mplt\u001b[0m\u001b[0;34m.\u001b[0m\u001b[0mplot\u001b[0m\u001b[0;34m(\u001b[0m\u001b[0maveResult\u001b[0m\u001b[0;34m,\u001b[0m\u001b[0mlabel\u001b[0m\u001b[0;34m=\u001b[0m\u001b[0;34m\"OpinionLayer\"\u001b[0m\u001b[0;34m)\u001b[0m\u001b[0;34m\u001b[0m\u001b[0m\n\u001b[0m\u001b[1;32m     21\u001b[0m     \u001b[0mplt\u001b[0m\u001b[0;34m.\u001b[0m\u001b[0mxlabel\u001b[0m\u001b[0;34m(\u001b[0m\u001b[0;34m\"Time Step\"\u001b[0m\u001b[0;34m)\u001b[0m\u001b[0;34m\u001b[0m\u001b[0m\n\u001b[1;32m     22\u001b[0m     \u001b[0mplt\u001b[0m\u001b[0;34m.\u001b[0m\u001b[0mylabel\u001b[0m\u001b[0;34m(\u001b[0m\u001b[0;34m\"Number of Cooperators\"\u001b[0m\u001b[0;34m)\u001b[0m\u001b[0;34m\u001b[0m\u001b[0m\n",
      "\u001b[0;31mNameError\u001b[0m: name 'aveResult' is not defined"
     ]
    }
   ],
   "source": [
    "for n in range(kaisu):\n",
    "    numOfCList_opinionLayer=[0]*(timeStep+1)\n",
    "    numOfCList_opinionLayer.append(first_numofC)\n",
    "    for num in range(timeStep):\n",
    "        #こちらはOpinionLayer\n",
    "        #voter game\n",
    "        opinionLayerset = opinionExchange(opinionLayer,opinionList)\n",
    "        opinionLayer = opinionLayerset[0]\n",
    "        opinionList = opinionLayerset[1]\n",
    "\n",
    "        #majority vote\n",
    "        # opinionLayerset = majorityGame(opinionLayer,opinionList)\n",
    "        # opinionLayer = opinionLayerset[0]\n",
    "        # opinionList = opinionLayerset[1]\n",
    "        sumResult[num+1] += countC_of_opinionLayer(opinionLayer)\n",
    "        numOfCList_opinionLayer.append(countC_of_opinionLayer(opinionLayer))\n",
    "\n",
    "    print numOfCList_opinionLayer\n",
    "    \n",
    "    plt.plot(aveResult,label=\"OpinionLayer\")\n",
    "    plt.xlabel(\"Time Step\")\n",
    "    plt.ylabel(\"Number of Cooperators\")\n",
    "\n",
    "    ylim(0,nodeNum*1.03)\n",
    "    xlim(0, timeStep)\n",
    "    plt.legend(loc=\"lower right\")\n",
    "\n",
    "    plt.show()\n",
    "\n",
    "    def calc_ave(n):\n",
    "        return n/kaisu\n",
    "\n",
    "    aveResult = list(map(calc_ave,sumResult))\n",
    "    aveResult[0]= first_numofC\n",
    "\n",
    "\n",
    "print 'ave',aveResult"
   ]
  },
  {
   "cell_type": "code",
   "execution_count": null,
   "metadata": {
    "collapsed": true
   },
   "outputs": [],
   "source": []
  }
 ],
 "metadata": {
  "kernelspec": {
   "display_name": "Python 2",
   "language": "python",
   "name": "python2"
  },
  "language_info": {
   "codemirror_mode": {
    "name": "ipython",
    "version": 2
   },
   "file_extension": ".py",
   "mimetype": "text/x-python",
   "name": "python",
   "nbconvert_exporter": "python",
   "pygments_lexer": "ipython2",
   "version": "2.7.10"
  }
 },
 "nbformat": 4,
 "nbformat_minor": 1
}
